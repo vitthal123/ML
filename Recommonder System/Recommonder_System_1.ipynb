{
 "cells": [
  {
   "cell_type": "markdown",
   "metadata": {},
   "source": [
    "## Recommonder System on Small Dataset"
   ]
  },
  {
   "cell_type": "code",
   "execution_count": 1,
   "metadata": {},
   "outputs": [],
   "source": [
    "import pandas as pd\n",
    "import numpy as np\n",
    "from sklearn.metrics.pairwise import cosine_similarity"
   ]
  },
  {
   "cell_type": "code",
   "execution_count": 2,
   "metadata": {
    "scrolled": true
   },
   "outputs": [
    {
     "data": {
      "text/html": [
       "<div>\n",
       "<style scoped>\n",
       "    .dataframe tbody tr th:only-of-type {\n",
       "        vertical-align: middle;\n",
       "    }\n",
       "\n",
       "    .dataframe tbody tr th {\n",
       "        vertical-align: top;\n",
       "    }\n",
       "\n",
       "    .dataframe thead th {\n",
       "        text-align: right;\n",
       "    }\n",
       "</style>\n",
       "<table border=\"1\" class=\"dataframe\">\n",
       "  <thead>\n",
       "    <tr style=\"text-align: right;\">\n",
       "      <th></th>\n",
       "      <th>action1</th>\n",
       "      <th>action2</th>\n",
       "      <th>action3</th>\n",
       "      <th>romantic1</th>\n",
       "      <th>romantic2</th>\n",
       "      <th>romantic3</th>\n",
       "    </tr>\n",
       "  </thead>\n",
       "  <tbody>\n",
       "    <tr>\n",
       "      <th>user 1</th>\n",
       "      <td>4.0</td>\n",
       "      <td>5.0</td>\n",
       "      <td>3.0</td>\n",
       "      <td>NaN</td>\n",
       "      <td>2.0</td>\n",
       "      <td>1.0</td>\n",
       "    </tr>\n",
       "    <tr>\n",
       "      <th>user 2</th>\n",
       "      <td>5.0</td>\n",
       "      <td>3.0</td>\n",
       "      <td>3.0</td>\n",
       "      <td>2.0</td>\n",
       "      <td>2.0</td>\n",
       "      <td>NaN</td>\n",
       "    </tr>\n",
       "    <tr>\n",
       "      <th>user 3</th>\n",
       "      <td>1.0</td>\n",
       "      <td>NaN</td>\n",
       "      <td>NaN</td>\n",
       "      <td>4.0</td>\n",
       "      <td>5.0</td>\n",
       "      <td>4.0</td>\n",
       "    </tr>\n",
       "    <tr>\n",
       "      <th>user 4</th>\n",
       "      <td>NaN</td>\n",
       "      <td>2.0</td>\n",
       "      <td>1.0</td>\n",
       "      <td>4.0</td>\n",
       "      <td>NaN</td>\n",
       "      <td>3.0</td>\n",
       "    </tr>\n",
       "    <tr>\n",
       "      <th>user 5</th>\n",
       "      <td>1.0</td>\n",
       "      <td>NaN</td>\n",
       "      <td>2.0</td>\n",
       "      <td>3.0</td>\n",
       "      <td>3.0</td>\n",
       "      <td>4.0</td>\n",
       "    </tr>\n",
       "  </tbody>\n",
       "</table>\n",
       "</div>"
      ],
      "text/plain": [
       "        action1  action2  action3  romantic1  romantic2  romantic3\n",
       "user 1      4.0      5.0      3.0        NaN        2.0        1.0\n",
       "user 2      5.0      3.0      3.0        2.0        2.0        NaN\n",
       "user 3      1.0      NaN      NaN        4.0        5.0        4.0\n",
       "user 4      NaN      2.0      1.0        4.0        NaN        3.0\n",
       "user 5      1.0      NaN      2.0        3.0        3.0        4.0"
      ]
     },
     "execution_count": 2,
     "metadata": {},
     "output_type": "execute_result"
    }
   ],
   "source": [
    "ratings=pd.read_csv('toy_dataset.csv',index_col=0)\n",
    "ratings"
   ]
  },
  {
   "cell_type": "code",
   "execution_count": 3,
   "metadata": {},
   "outputs": [],
   "source": [
    "ratings.fillna(0,inplace=True)"
   ]
  },
  {
   "cell_type": "code",
   "execution_count": 4,
   "metadata": {
    "scrolled": true
   },
   "outputs": [
    {
     "data": {
      "text/html": [
       "<div>\n",
       "<style scoped>\n",
       "    .dataframe tbody tr th:only-of-type {\n",
       "        vertical-align: middle;\n",
       "    }\n",
       "\n",
       "    .dataframe tbody tr th {\n",
       "        vertical-align: top;\n",
       "    }\n",
       "\n",
       "    .dataframe thead th {\n",
       "        text-align: right;\n",
       "    }\n",
       "</style>\n",
       "<table border=\"1\" class=\"dataframe\">\n",
       "  <thead>\n",
       "    <tr style=\"text-align: right;\">\n",
       "      <th></th>\n",
       "      <th>action1</th>\n",
       "      <th>action2</th>\n",
       "      <th>action3</th>\n",
       "      <th>romantic1</th>\n",
       "      <th>romantic2</th>\n",
       "      <th>romantic3</th>\n",
       "    </tr>\n",
       "  </thead>\n",
       "  <tbody>\n",
       "    <tr>\n",
       "      <th>user 1</th>\n",
       "      <td>4.0</td>\n",
       "      <td>5.0</td>\n",
       "      <td>3.0</td>\n",
       "      <td>0.0</td>\n",
       "      <td>2.0</td>\n",
       "      <td>1.0</td>\n",
       "    </tr>\n",
       "    <tr>\n",
       "      <th>user 2</th>\n",
       "      <td>5.0</td>\n",
       "      <td>3.0</td>\n",
       "      <td>3.0</td>\n",
       "      <td>2.0</td>\n",
       "      <td>2.0</td>\n",
       "      <td>0.0</td>\n",
       "    </tr>\n",
       "    <tr>\n",
       "      <th>user 3</th>\n",
       "      <td>1.0</td>\n",
       "      <td>0.0</td>\n",
       "      <td>0.0</td>\n",
       "      <td>4.0</td>\n",
       "      <td>5.0</td>\n",
       "      <td>4.0</td>\n",
       "    </tr>\n",
       "    <tr>\n",
       "      <th>user 4</th>\n",
       "      <td>0.0</td>\n",
       "      <td>2.0</td>\n",
       "      <td>1.0</td>\n",
       "      <td>4.0</td>\n",
       "      <td>0.0</td>\n",
       "      <td>3.0</td>\n",
       "    </tr>\n",
       "    <tr>\n",
       "      <th>user 5</th>\n",
       "      <td>1.0</td>\n",
       "      <td>0.0</td>\n",
       "      <td>2.0</td>\n",
       "      <td>3.0</td>\n",
       "      <td>3.0</td>\n",
       "      <td>4.0</td>\n",
       "    </tr>\n",
       "  </tbody>\n",
       "</table>\n",
       "</div>"
      ],
      "text/plain": [
       "        action1  action2  action3  romantic1  romantic2  romantic3\n",
       "user 1      4.0      5.0      3.0        0.0        2.0        1.0\n",
       "user 2      5.0      3.0      3.0        2.0        2.0        0.0\n",
       "user 3      1.0      0.0      0.0        4.0        5.0        4.0\n",
       "user 4      0.0      2.0      1.0        4.0        0.0        3.0\n",
       "user 5      1.0      0.0      2.0        3.0        3.0        4.0"
      ]
     },
     "execution_count": 4,
     "metadata": {},
     "output_type": "execute_result"
    }
   ],
   "source": [
    "ratings"
   ]
  },
  {
   "cell_type": "code",
   "execution_count": 8,
   "metadata": {
    "scrolled": true
   },
   "outputs": [],
   "source": [
    "def standardize(row):\n",
    "    new_row=(row-row.mean())/(row.max()-row.min())\n",
    "    return new_row\n",
    "\n",
    "ratings_std=ratings.apply(standardize)\n"
   ]
  },
  {
   "cell_type": "code",
   "execution_count": 9,
   "metadata": {
    "scrolled": true
   },
   "outputs": [
    {
     "name": "stdout",
     "output_type": "stream",
     "text": [
      "        action1  action2   action3  romantic1  romantic2  romantic3\n",
      "user 1     0.36      0.6  0.400000      -0.65      -0.08      -0.35\n",
      "user 2     0.56      0.2  0.400000      -0.15      -0.08      -0.60\n",
      "user 3    -0.24     -0.4 -0.600000       0.35       0.52       0.40\n",
      "user 4    -0.44      0.0 -0.266667       0.35      -0.48       0.15\n",
      "user 5    -0.24     -0.4  0.066667       0.10       0.12       0.40\n"
     ]
    }
   ],
   "source": [
    "print(ratings_std)"
   ]
  },
  {
   "cell_type": "code",
   "execution_count": 10,
   "metadata": {},
   "outputs": [],
   "source": [
    "## Item Based Collaborative Filtering\n",
    "item_similarity=cosine_similarity(ratings_std.T)"
   ]
  },
  {
   "cell_type": "code",
   "execution_count": 11,
   "metadata": {
    "scrolled": true
   },
   "outputs": [
    {
     "data": {
      "text/plain": [
       "array([[ 1.        ,  0.70668875,  0.81368151, -0.79941088, -0.02539184,\n",
       "        -0.91410609],\n",
       "       [ 0.70668875,  1.        ,  0.72310153, -0.84515425, -0.5189993 ,\n",
       "        -0.84337386],\n",
       "       [ 0.81368151,  0.72310153,  1.        , -0.84794611, -0.3799803 ,\n",
       "        -0.80218063],\n",
       "       [-0.79941088, -0.84515425, -0.84794611,  1.        ,  0.14803913,\n",
       "         0.72374686],\n",
       "       [-0.02539184, -0.5189993 , -0.3799803 ,  0.14803913,  1.        ,\n",
       "         0.39393939],\n",
       "       [-0.91410609, -0.84337386, -0.80218063,  0.72374686,  0.39393939,\n",
       "         1.        ]])"
      ]
     },
     "execution_count": 11,
     "metadata": {},
     "output_type": "execute_result"
    }
   ],
   "source": [
    "item_similarity"
   ]
  },
  {
   "cell_type": "code",
   "execution_count": 12,
   "metadata": {},
   "outputs": [],
   "source": [
    "item_similarity=pd.DataFrame(item_similarity,index=ratings.columns,columns=ratings.columns)"
   ]
  },
  {
   "cell_type": "code",
   "execution_count": 13,
   "metadata": {
    "scrolled": false
   },
   "outputs": [
    {
     "data": {
      "text/html": [
       "<div>\n",
       "<style scoped>\n",
       "    .dataframe tbody tr th:only-of-type {\n",
       "        vertical-align: middle;\n",
       "    }\n",
       "\n",
       "    .dataframe tbody tr th {\n",
       "        vertical-align: top;\n",
       "    }\n",
       "\n",
       "    .dataframe thead th {\n",
       "        text-align: right;\n",
       "    }\n",
       "</style>\n",
       "<table border=\"1\" class=\"dataframe\">\n",
       "  <thead>\n",
       "    <tr style=\"text-align: right;\">\n",
       "      <th></th>\n",
       "      <th>action1</th>\n",
       "      <th>action2</th>\n",
       "      <th>action3</th>\n",
       "      <th>romantic1</th>\n",
       "      <th>romantic2</th>\n",
       "      <th>romantic3</th>\n",
       "    </tr>\n",
       "  </thead>\n",
       "  <tbody>\n",
       "    <tr>\n",
       "      <th>action1</th>\n",
       "      <td>1.000000</td>\n",
       "      <td>0.706689</td>\n",
       "      <td>0.813682</td>\n",
       "      <td>-0.799411</td>\n",
       "      <td>-0.025392</td>\n",
       "      <td>-0.914106</td>\n",
       "    </tr>\n",
       "    <tr>\n",
       "      <th>action2</th>\n",
       "      <td>0.706689</td>\n",
       "      <td>1.000000</td>\n",
       "      <td>0.723102</td>\n",
       "      <td>-0.845154</td>\n",
       "      <td>-0.518999</td>\n",
       "      <td>-0.843374</td>\n",
       "    </tr>\n",
       "    <tr>\n",
       "      <th>action3</th>\n",
       "      <td>0.813682</td>\n",
       "      <td>0.723102</td>\n",
       "      <td>1.000000</td>\n",
       "      <td>-0.847946</td>\n",
       "      <td>-0.379980</td>\n",
       "      <td>-0.802181</td>\n",
       "    </tr>\n",
       "    <tr>\n",
       "      <th>romantic1</th>\n",
       "      <td>-0.799411</td>\n",
       "      <td>-0.845154</td>\n",
       "      <td>-0.847946</td>\n",
       "      <td>1.000000</td>\n",
       "      <td>0.148039</td>\n",
       "      <td>0.723747</td>\n",
       "    </tr>\n",
       "    <tr>\n",
       "      <th>romantic2</th>\n",
       "      <td>-0.025392</td>\n",
       "      <td>-0.518999</td>\n",
       "      <td>-0.379980</td>\n",
       "      <td>0.148039</td>\n",
       "      <td>1.000000</td>\n",
       "      <td>0.393939</td>\n",
       "    </tr>\n",
       "    <tr>\n",
       "      <th>romantic3</th>\n",
       "      <td>-0.914106</td>\n",
       "      <td>-0.843374</td>\n",
       "      <td>-0.802181</td>\n",
       "      <td>0.723747</td>\n",
       "      <td>0.393939</td>\n",
       "      <td>1.000000</td>\n",
       "    </tr>\n",
       "  </tbody>\n",
       "</table>\n",
       "</div>"
      ],
      "text/plain": [
       "            action1   action2   action3  romantic1  romantic2  romantic3\n",
       "action1    1.000000  0.706689  0.813682  -0.799411  -0.025392  -0.914106\n",
       "action2    0.706689  1.000000  0.723102  -0.845154  -0.518999  -0.843374\n",
       "action3    0.813682  0.723102  1.000000  -0.847946  -0.379980  -0.802181\n",
       "romantic1 -0.799411 -0.845154 -0.847946   1.000000   0.148039   0.723747\n",
       "romantic2 -0.025392 -0.518999 -0.379980   0.148039   1.000000   0.393939\n",
       "romantic3 -0.914106 -0.843374 -0.802181   0.723747   0.393939   1.000000"
      ]
     },
     "execution_count": 13,
     "metadata": {},
     "output_type": "execute_result"
    }
   ],
   "source": [
    "item_similarity"
   ]
  },
  {
   "cell_type": "code",
   "execution_count": 14,
   "metadata": {},
   "outputs": [],
   "source": [
    "def get_similar_movie(movie,user_ratings):\n",
    "    similar_score=item_similarity[movie]*user_ratings\n",
    "    similar_score=similar_score.sort_values(ascending=False)\n",
    "    \n",
    "    return similar_score\n",
    "\n",
    "\n",
    "    "
   ]
  },
  {
   "cell_type": "code",
   "execution_count": 19,
   "metadata": {},
   "outputs": [
    {
     "data": {
      "text/plain": [
       "action1      1.000000\n",
       "action2      0.706689\n",
       "action3      0.813682\n",
       "romantic1   -0.799411\n",
       "romantic2   -0.025392\n",
       "romantic3   -0.914106\n",
       "Name: action1, dtype: float64"
      ]
     },
     "execution_count": 19,
     "metadata": {},
     "output_type": "execute_result"
    }
   ],
   "source": [
    "item_similarity['action1']"
   ]
  },
  {
   "cell_type": "code",
   "execution_count": 15,
   "metadata": {
    "scrolled": true
   },
   "outputs": [
    {
     "name": "stdout",
     "output_type": "stream",
     "text": [
      "action1      5.000000\n",
      "action3      4.068408\n",
      "action2      3.533444\n",
      "romantic2   -0.126959\n",
      "romantic1   -3.997054\n",
      "romantic3   -4.570530\n",
      "Name: action1, dtype: float64\n"
     ]
    }
   ],
   "source": [
    "print(get_similar_movie('action1',5))"
   ]
  },
  {
   "cell_type": "code",
   "execution_count": 16,
   "metadata": {
    "scrolled": true
   },
   "outputs": [
    {
     "name": "stdout",
     "output_type": "stream",
     "text": [
      "romantic1    1.000000\n",
      "romantic3    0.723747\n",
      "romantic2    0.148039\n",
      "action1     -0.799411\n",
      "action2     -0.845154\n",
      "action3     -0.847946\n",
      "Name: romantic1, dtype: float64\n"
     ]
    }
   ],
   "source": [
    "print(get_similar_movie('romantic1',1))"
   ]
  },
  {
   "cell_type": "markdown",
   "metadata": {},
   "source": [
    "## Above example shows it is also wron model"
   ]
  },
  {
   "cell_type": "code",
   "execution_count": 17,
   "metadata": {},
   "outputs": [],
   "source": [
    "def get_similar_movie(movie,user_ratings):\n",
    "    similar_score=item_similarity[movie]*(user_ratings-2.5)\n",
    "    similar_score=similar_score.sort_values(ascending=False)\n",
    "    \n",
    "    return similar_score"
   ]
  },
  {
   "cell_type": "code",
   "execution_count": 18,
   "metadata": {},
   "outputs": [
    {
     "name": "stdout",
     "output_type": "stream",
     "text": [
      "action3      1.271919\n",
      "action2      1.267731\n",
      "action1      1.199116\n",
      "romantic2   -0.222059\n",
      "romantic3   -1.085620\n",
      "romantic1   -1.500000\n",
      "Name: romantic1, dtype: float64\n"
     ]
    }
   ],
   "source": [
    "print(get_similar_movie('romantic1',1))"
   ]
  }
 ],
 "metadata": {
  "kernelspec": {
   "display_name": "Python 3",
   "language": "python",
   "name": "python3"
  },
  "language_info": {
   "codemirror_mode": {
    "name": "ipython",
    "version": 3
   },
   "file_extension": ".py",
   "mimetype": "text/x-python",
   "name": "python",
   "nbconvert_exporter": "python",
   "pygments_lexer": "ipython3",
   "version": "3.8.5"
  }
 },
 "nbformat": 4,
 "nbformat_minor": 4
}
