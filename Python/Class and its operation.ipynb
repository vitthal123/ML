{
 "cells": [
  {
   "cell_type": "code",
   "execution_count": 4,
   "metadata": {
    "scrolled": false
   },
   "outputs": [
    {
     "name": "stdout",
     "output_type": "stream",
     "text": [
      " Class attr : Mammal\n",
      "instance attr : Rogder\n"
     ]
    }
   ],
   "source": [
    "# OOP\n",
    "# Basics\n",
    "class Dog:\n",
    "    attr='Mammal'\n",
    "    def __init__(self,name):\n",
    "        self.name=name\n",
    "        \n",
    "        \n",
    "# Accessing Class attribute\n",
    "rogder=Dog('Rogder')\n",
    "print(' Class attr :',rogder.__class__.attr)\n",
    "\n",
    "# Accessing Instance attribute\n",
    "print('instance attr :',rogder.name)"
   ]
  },
  {
   "cell_type": "code",
   "execution_count": 26,
   "metadata": {},
   "outputs": [],
   "source": [
    "class Customer:\n",
    "    def __init__(self,title,fname,lname):\n",
    "        self.title=title\n",
    "        self.fname=fname\n",
    "        self.lname=lname\n",
    "        \n",
    "    def details(self):\n",
    "        print('Title :{}   FirstName :{}  LastName:{}'.format(self.title,self.fname,self.lname))"
   ]
  },
  {
   "cell_type": "code",
   "execution_count": 27,
   "metadata": {},
   "outputs": [
    {
     "name": "stdout",
     "output_type": "stream",
     "text": [
      "Title :Mr   FirstName :Vitthal  LastName:Manekar\n"
     ]
    }
   ],
   "source": [
    "s=Customer('Mr','Vitthal','Manekar')\n",
    "s.details()"
   ]
  },
  {
   "cell_type": "code",
   "execution_count": 6,
   "metadata": {
    "scrolled": true
   },
   "outputs": [
    {
     "name": "stdout",
     "output_type": "stream",
     "text": [
      "My name is : Rogder\n"
     ]
    }
   ],
   "source": [
    "# Class method\n",
    "class Dog:\n",
    "    #Class attribute\n",
    "    attr='Mammal'\n",
    "    def __init__(self,name):\n",
    "        self.dog_name=name\n",
    "    # class method\n",
    "    def dog_speak(self):\n",
    "        print('My name is :',self.dog_name)\n",
    "## Driving Class        \n",
    "rogder=Dog('Rogder')\n",
    "rogder.dog_speak()"
   ]
  },
  {
   "cell_type": "code",
   "execution_count": 11,
   "metadata": {
    "scrolled": true
   },
   "outputs": [
    {
     "name": "stdout",
     "output_type": "stream",
     "text": [
      "My name is Vitthal\n",
      "My salary is 50000\n",
      "My designation Sr Soft Engg\n"
     ]
    }
   ],
   "source": [
    "#Inheritence\n",
    "class Person:\n",
    "    def __init__(self,name,idnum):\n",
    "        self.pname=name\n",
    "        self.idnumber=idnum\n",
    "        \n",
    "    def display(self):\n",
    "        print(self.pname)\n",
    "        print(self.idnumber)\n",
    "    def detail(self):\n",
    "        print('My name is {}'.format(self.pname))\n",
    "        print('My id Number is {}'.format(self.idnumber))\n",
    "        \n",
    "#subclass\n",
    "class Employee(Person):\n",
    "    def __init__(self,name,idnum,salary,post):\n",
    "        self.salary=salary\n",
    "        self.post=post\n",
    "        Person.__init__(self,name,idnum)\n",
    "        \n",
    "    def detail(self):\n",
    "        print('My name is {}'.format(self.pname))\n",
    "        print('My salary is {}'.format(self.salary))\n",
    "        print('My designation {}'.format(self.post))\n",
    "        \n",
    "        \n",
    "#Driver Class\n",
    "a=Employee('Vitthal',7,50000,'Sr Soft Engg')\n",
    "a.detail()\n",
    "    "
   ]
  },
  {
   "cell_type": "code",
   "execution_count": 12,
   "metadata": {
    "scrolled": true
   },
   "outputs": [
    {
     "name": "stdout",
     "output_type": "stream",
     "text": [
      "There are many types of birds.\n",
      "Most of the birds can fly but some cannot.\n",
      "There are many types of birds.\n",
      "Sparrow can fly \n",
      "There are many types of birds.\n",
      "Ostrich cannot fly\n"
     ]
    }
   ],
   "source": [
    "#Polymorphism (Single Method Flight )\n",
    "class Bird:\n",
    "    def intro(self):\n",
    "        print('There are many types of birds.')\n",
    "    def flight(self):\n",
    "        print('Most of the birds can fly but some cannot.')\n",
    "        \n",
    "class Sparrow(Bird):\n",
    "    def flight(self):\n",
    "        print('Sparrow can fly ')\n",
    "        \n",
    "class ostrich(Bird):\n",
    "    def flight(self):\n",
    "        print('Ostrich cannot fly')\n",
    "        \n",
    "#Driver Class\n",
    "b=Bird()\n",
    "c=Sparrow()\n",
    "d=ostrich()\n",
    "\n",
    "# Calling Bird Instances\n",
    "b.intro()\n",
    "b.flight()\n",
    "\n",
    "# Calling Sparrow Instances\n",
    "c.intro()\n",
    "c.flight()\n",
    "\n",
    "# Calling ostrich instances\n",
    "d.intro()\n",
    "d.flight()\n",
    "    \n",
    "        "
   ]
  },
  {
   "cell_type": "code",
   "execution_count": 16,
   "metadata": {},
   "outputs": [
    {
     "name": "stdout",
     "output_type": "stream",
     "text": [
      "GeeksforGeeks\n"
     ]
    }
   ],
   "source": [
    "# Python program to\n",
    "# demonstrate private members\n",
    "\n",
    "# Creating a Base class\n",
    "class Base:\n",
    "    def __init__(self):\n",
    "        self.a = \"GeeksforGeeks\"\n",
    "        self.__c = \"GeeksforGeeks\"\n",
    "\n",
    "# Creating a derived class\n",
    "class Derived(Base):\n",
    "    def __init__(self):\n",
    "\n",
    "# Calling constructor of\n",
    "# Base class\n",
    "        Base.__init__(self)\n",
    "        print(\"Calling private member of base class: \")\n",
    "        print(self.__c)\n",
    "\n",
    "\n",
    "# Driver code\n",
    "obj1 = Base()\n",
    "print(obj1.a)\n",
    "\n",
    "# Uncommenting print(obj1.c) will\n",
    "# raise an AttributeError\n",
    "\n",
    "# Uncommenting obj2 = Derived() will\n",
    "# also raise an AtrributeError as\n",
    "# private member of base class\n",
    "# is called inside derived class\n"
   ]
  },
  {
   "cell_type": "code",
   "execution_count": 23,
   "metadata": {
    "scrolled": true
   },
   "outputs": [
    {
     "name": "stdout",
     "output_type": "stream",
     "text": [
      "2\n",
      "7\n",
      "7\n"
     ]
    }
   ],
   "source": [
    "class MyClass:\n",
    "\n",
    "# Hidden member of MyClass\n",
    "    __hiddenVariable = 0\n",
    "\n",
    "# A member method that changes\n",
    "# __hiddenVariable\n",
    "    def add(self, increment):\n",
    "        self.__hiddenVariable += increment\n",
    "        print (self.__hiddenVariable)\n",
    "\n",
    "# Driver code\n",
    "myObject = MyClass()\n",
    "myObject.add(2)\n",
    "myObject.add(5)\n",
    "\n",
    "# This line causes error\n",
    "# print (myObject.__hiddenVariable)\n",
    "\n",
    "# Private Member Can be called outside\n",
    "print(myObject._MyClass__hiddenVariable)\n"
   ]
  },
  {
   "cell_type": "code",
   "execution_count": 20,
   "metadata": {},
   "outputs": [
    {
     "name": "stdout",
     "output_type": "stream",
     "text": [
      "10\n"
     ]
    }
   ],
   "source": [
    "# A Python program to demonstrate that hidden\n",
    "# members can be accessed outside a class\n",
    "class MyClass:\n",
    "\n",
    "# Hidden member of MyClass\n",
    "    __hiddenVariable = 10\n",
    "\n",
    "# Driver code\n",
    "myObject = MyClass()\n",
    "print(myObject._MyClass__hiddenVariable)\n"
   ]
  },
  {
   "cell_type": "code",
   "execution_count": null,
   "metadata": {},
   "outputs": [],
   "source": []
  }
 ],
 "metadata": {
  "kernelspec": {
   "display_name": "Python 3",
   "language": "python",
   "name": "python3"
  },
  "language_info": {
   "codemirror_mode": {
    "name": "ipython",
    "version": 3
   },
   "file_extension": ".py",
   "mimetype": "text/x-python",
   "name": "python",
   "nbconvert_exporter": "python",
   "pygments_lexer": "ipython3",
   "version": "3.8.5"
  }
 },
 "nbformat": 4,
 "nbformat_minor": 4
}
