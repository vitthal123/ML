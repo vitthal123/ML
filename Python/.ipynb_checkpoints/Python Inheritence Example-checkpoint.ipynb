{
 "cells": [
  {
   "cell_type": "code",
   "execution_count": null,
   "metadata": {},
   "outputs": [],
   "source": [
    "# PYTHON Sample Code"
   ]
  },
  {
   "cell_type": "code",
   "execution_count": 4,
   "metadata": {},
   "outputs": [
    {
     "name": "stdout",
     "output_type": "stream",
     "text": [
      "1\n",
      "3\n",
      "5\n",
      "0\n"
     ]
    }
   ],
   "source": [
    "num=[1,2,3,4,5,0,8,3,2]\n",
    "for p in num:\n",
    "    pass\n",
    "    if(p==0):\n",
    "        current=p\n",
    "        break;\n",
    "    elif(p%2==0):\n",
    "        continue\n",
    "    print(p)\n",
    "print(current)\n",
    "        "
   ]
  },
  {
   "cell_type": "code",
   "execution_count": 5,
   "metadata": {},
   "outputs": [
    {
     "data": {
      "text/plain": [
       "['hello', 'world']"
      ]
     },
     "execution_count": 5,
     "metadata": {},
     "output_type": "execute_result"
    }
   ],
   "source": [
    "## Example of Decorators\n",
    "##################################\n",
    "# decorator function to convert to lowercase\n",
    "def lowercase_decorator(function):\n",
    "   def wrapper():\n",
    "       func = function()\n",
    "       string_lowercase = func.lower()\n",
    "       return string_lowercase\n",
    "   return wrapper\n",
    "# decorator function to split words\n",
    "def splitter_decorator(function):\n",
    "   def wrapper():\n",
    "       func = function()\n",
    "       string_split = func.split()\n",
    "       return string_split\n",
    "   return wrapper\n",
    "@splitter_decorator # this is executed next\n",
    "@lowercase_decorator # this is executed first\n",
    "def hello():\n",
    "   return 'Hello World'\n",
    "hello()   # output => [ 'hello' , 'world' ]"
   ]
  },
  {
   "cell_type": "code",
   "execution_count": 6,
   "metadata": {
    "scrolled": true
   },
   "outputs": [
    {
     "data": {
      "text/plain": [
       "'Hello Sara! Hello Ansh!'"
      ]
     },
     "execution_count": 6,
     "metadata": {},
     "output_type": "execute_result"
    }
   ],
   "source": [
    "# decorator function to capitalize names\n",
    "def names_decorator(function):\n",
    "   def wrapper(arg1, arg2):\n",
    "       arg1 = arg1.capitalize()\n",
    "       arg2 = arg2.capitalize()\n",
    "       string_hello = function(arg1, arg2)\n",
    "       return string_hello\n",
    "   return wrapper\n",
    "@names_decorator\n",
    "def say_hello(name1, name2):\n",
    "   return 'Hello ' + name1 + '! Hello ' + name2 + '!'\n",
    "say_hello('sara', 'ansh')   # output => 'Hello Sara! Hello Ansh!'"
   ]
  },
  {
   "cell_type": "code",
   "execution_count": 7,
   "metadata": {
    "scrolled": true
   },
   "outputs": [
    {
     "data": {
      "text/plain": [
       "8"
      ]
     },
     "execution_count": 7,
     "metadata": {},
     "output_type": "execute_result"
    }
   ],
   "source": [
    "## generate fibonacci numbers upto n\n",
    "def fib(n):\n",
    "   p, q = 0, 1\n",
    "   while(p < n):\n",
    "       yield p\n",
    "       p, q = q, p + q\n",
    "x = fib(10)    # create generator object \n",
    " \n",
    "## iterating using __next__(), for Python2, use next()\n",
    "x.__next__()    # output => 0\n",
    "x.__next__()    # output => 1\n",
    "x.__next__()    # output => 1\n",
    "x.__next__()    # output => 2\n",
    "x.__next__()    # output => 3\n",
    "x.__next__()    # output => 5\n",
    "x.__next__()    # output => 8\n",
    "# x.__next__()    # error"
   ]
  },
  {
   "cell_type": "code",
   "execution_count": 8,
   "metadata": {
    "scrolled": true
   },
   "outputs": [
    {
     "name": "stdout",
     "output_type": "stream",
     "text": [
      "parent\n",
      "A name :  parent\n",
      "B name :  intermediate\n",
      "C name :  child\n"
     ]
    }
   ],
   "source": [
    "# Multilevel Inheritence\n",
    "# Parent class\n",
    "class A:\n",
    "   def __init__(self, a_name):\n",
    "       self.a_name = a_name\n",
    "   \n",
    "# Intermediate class\n",
    "class B(A):\n",
    "   def __init__(self, b_name, a_name):\n",
    "       self.b_name = b_name\n",
    "       # invoke constructor of class A\n",
    "       A.__init__(self, a_name)\n",
    "\n",
    "# Child class\n",
    "class C(B):\n",
    "   def __init__(self,c_name, b_name, a_name):\n",
    "       self.c_name = c_name\n",
    "       # invoke constructor of class B\n",
    "       B.__init__(self, b_name, a_name)\n",
    "       \n",
    "   def display_names(self):\n",
    "       print(\"A name : \", self.a_name)\n",
    "       print(\"B name : \", self.b_name)\n",
    "       print(\"C name : \", self.c_name)\n",
    "\n",
    "#  Driver code\n",
    "obj1 = C('child', 'intermediate', 'parent')\n",
    "print(obj1.a_name)\n",
    "obj1.display_names()"
   ]
  },
  {
   "cell_type": "code",
   "execution_count": 9,
   "metadata": {
    "scrolled": false
   },
   "outputs": [
    {
     "name": "stdout",
     "output_type": "stream",
     "text": [
      "Hi I am first Parent\n",
      "Hi I am second Parent\n"
     ]
    }
   ],
   "source": [
    "## Multiple Inheritence\n",
    "##########################\n",
    "# Parent class1\n",
    "class Parent1:\n",
    "   def parent1_func(self):\n",
    "       print(\"Hi I am first Parent\")\n",
    "\n",
    "# Parent class2\n",
    "class Parent2:\n",
    "   def parent2_func(self):\n",
    "       print(\"Hi I am second Parent\")\n",
    "\n",
    "# Child class\n",
    "class Child(Parent1, Parent2):\n",
    "   def child_func(self):\n",
    "       self.parent1_func()\n",
    "       self.parent2_func()\n",
    "\n",
    "# Driver's code\n",
    "obj1 = Child()\n",
    "obj1.child_func()"
   ]
  },
  {
   "cell_type": "code",
   "execution_count": 10,
   "metadata": {
    "scrolled": false
   },
   "outputs": [
    {
     "name": "stdout",
     "output_type": "stream",
     "text": [
      "I am from the parent class.\n",
      "I am from the first child.\n",
      "I am from the parent class.\n",
      "I am from the second child.\n"
     ]
    }
   ],
   "source": [
    "# Hierachical Inheritence\n",
    "##########################\n",
    "# Base class\n",
    "class A:\n",
    "     def a_func(self):\n",
    "         print(\"I am from the parent class.\")\n",
    "\n",
    "# 1st Derived class\n",
    "class B(A):\n",
    "     def b_func(self):\n",
    "         print(\"I am from the first child.\")\n",
    "\n",
    "# 2nd Derived class\n",
    "class C(A):\n",
    "     def c_func(self):\n",
    "         print(\"I am from the second child.\")\n",
    " \n",
    "# Driver's code\n",
    "obj1 = B()\n",
    "obj2 = C()\n",
    "obj1.a_func()\n",
    "obj1.b_func()    #child 1 method\n",
    "obj2.a_func()\n",
    "obj2.c_func()    #child 2 method"
   ]
  },
  {
   "cell_type": "code",
   "execution_count": 1,
   "metadata": {},
   "outputs": [
    {
     "name": "stdout",
     "output_type": "stream",
     "text": [
      "xyx 6\n"
     ]
    }
   ],
   "source": [
    "## Accessing Parent class var in child class\n",
    "###############################################\n",
    "class Parent(object):  \n",
    "   # Constructor\n",
    "   def __init__(self, name):\n",
    "       self.name = name    \n",
    " \n",
    "class Child(Parent): \n",
    "   # Constructor\n",
    "   def __init__(self, name, age):\n",
    "       Parent.name = name\n",
    "       self.age = age\n",
    " \n",
    "   def display(self):\n",
    "       print(Parent.name, self.age)\n",
    " \n",
    "# Driver Code\n",
    "obj = Child(\"xyx\", 6)\n",
    "obj.display()"
   ]
  },
  {
   "cell_type": "code",
   "execution_count": 2,
   "metadata": {
    "scrolled": true
   },
   "outputs": [
    {
     "name": "stdout",
     "output_type": "stream",
     "text": [
      "xyx 6\n"
     ]
    }
   ],
   "source": [
    "## Accessing Parent Class Using Super()\n",
    "#######################################\n",
    "class Parent(object):\n",
    "   # Constructor\n",
    "   def __init__(self, name):\n",
    "       self.name = name    \n",
    " \n",
    "class Child(Parent):\n",
    "   # Constructor\n",
    "   def __init__(self, name, age):         \n",
    "       ''' \n",
    "       In Python 3.x, we can also use super().__init__(name)\n",
    "       ''' \n",
    "       super(Child, self).__init__(name)\n",
    "       self.age = age\n",
    " \n",
    "   def display(self):\n",
    "      # Note that Parent.name cant be used \n",
    "      # here since super() is used in the constructor\n",
    "      print(self.name, self.age)\n",
    "  \n",
    "# Driver Code\n",
    "obj = Child(\"xyx\", 6)\n",
    "obj.display()"
   ]
  },
  {
   "cell_type": "code",
   "execution_count": 3,
   "metadata": {},
   "outputs": [
    {
     "name": "stdout",
     "output_type": "stream",
     "text": [
      "Vitthal 34 CSE\n"
     ]
    }
   ],
   "source": [
    "## Private Public and protected member\n",
    "#######################################\n",
    "class Employee:\n",
    "   \n",
    "    # protected members\n",
    "    _emp_name = None\n",
    "    _age = None\n",
    "    \n",
    "    # private members\n",
    "    __branch = None\n",
    "    \n",
    "    # constructor\n",
    "    def __init__(self, emp_name, age, branch): \n",
    "         self._emp_name = emp_name\n",
    "         self._age = age\n",
    "         self.__branch = branch\n",
    "    \n",
    "    #public member\n",
    "    def display(self):\n",
    "        print(self._emp_name +\" \"+self._age+\" \"+self.__branch)\n",
    "\n",
    "cl1=Employee(\"Vitthal\",'34','CSE')\n",
    "cl1.display()\n"
   ]
  }
 ],
 "metadata": {
  "kernelspec": {
   "display_name": "Python 3",
   "language": "python",
   "name": "python3"
  },
  "language_info": {
   "codemirror_mode": {
    "name": "ipython",
    "version": 3
   },
   "file_extension": ".py",
   "mimetype": "text/x-python",
   "name": "python",
   "nbconvert_exporter": "python",
   "pygments_lexer": "ipython3",
   "version": "3.8.5"
  }
 },
 "nbformat": 4,
 "nbformat_minor": 4
}
