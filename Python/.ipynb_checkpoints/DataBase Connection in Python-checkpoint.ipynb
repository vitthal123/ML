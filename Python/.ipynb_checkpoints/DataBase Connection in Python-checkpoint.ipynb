{
 "cells": [
  {
   "cell_type": "code",
   "execution_count": 4,
   "metadata": {
    "scrolled": true
   },
   "outputs": [
    {
     "name": "stdout",
     "output_type": "stream",
     "text": [
      "Requirement already satisfied: cx-Oracle in c:\\programdata\\anaconda3\\lib\\site-packages (8.3.0)\n"
     ]
    }
   ],
   "source": [
    "!pip install cx-Oracle"
   ]
  },
  {
   "cell_type": "code",
   "execution_count": 6,
   "metadata": {},
   "outputs": [
    {
     "name": "stdout",
     "output_type": "stream",
     "text": [
      "There is a problem with Oracle DPI-1047: Cannot locate a 64-bit Oracle Client library: \"C:\\oraclexe\\app\\oracle\\product\\11.2.0\\server\\bin\\oci.dll is not the correct architecture\". See https://cx-oracle.readthedocs.io/en/latest/user_guide/installation.html for help\n"
     ]
    }
   ],
   "source": [
    "# importing module\n",
    "import cx_Oracle\n",
    "\n",
    "# Create a table in Oracle database\n",
    "try:\n",
    "\n",
    "    con = cx_Oracle.connect('hr/hr@localhost:1521/xe')\n",
    "    print(con.version)\n",
    "\n",
    "# Now execute the sqlquery\n",
    "    cursor = con.cursor()\n",
    "\n",
    "# Creating a table employee\n",
    "    cursor.execute(\"create table employee2(empid integer primary key, name varchar2(30), salary number(10, 2))\")\n",
    "\n",
    "    print(\"Table Created successfully\")\n",
    "\n",
    "except cx_Oracle.DatabaseError as e:\n",
    "    print(\"There is a problem with Oracle\", e)\n",
    "\n",
    "# by writing finally if any error occurs\n",
    "# then also we can close the all database operation\n",
    "# finally:\n",
    "#     if cursor:\n",
    "#         cursor.close()\n",
    "#     if con:\n",
    "#         con.close()\n"
   ]
  },
  {
   "cell_type": "code",
   "execution_count": 8,
   "metadata": {},
   "outputs": [
    {
     "name": "stdout",
     "output_type": "stream",
     "text": [
      "Table Created\n"
     ]
    }
   ],
   "source": [
    "########## Table Creation \n",
    "##############################\n",
    "import cx_Oracle\n",
    "# Connecting to DB\n",
    "try:\n",
    "    con = cx_Oracle.connect('hr/hr@//localhost:1521/xe')\n",
    "    cursor = con.cursor()\n",
    "   \n",
    "   #Creating a table\n",
    "    cursor.execute(\"create table TableName(COL1 VARCHAR2(200),COL2 NUMBER(8))\")\n",
    "    print(\"Table Created\")\n",
    "   \n",
    "except cx_Oracle.DatabaseError as e:\n",
    "    print(\"Problem connecting to Oracle\", e)\n",
    "   # Close the all database operation\n",
    "finally:\n",
    "    if cursor:\n",
    "        cursor.close()\n",
    "    if con:\n",
    "        con.close()"
   ]
  },
  {
   "cell_type": "code",
   "execution_count": 11,
   "metadata": {},
   "outputs": [
    {
     "name": "stdout",
     "output_type": "stream",
     "text": [
      "Record Inserted\n"
     ]
    }
   ],
   "source": [
    "## Insertion into table\n",
    "###########################\n",
    "import cx_Oracle\n",
    "# Connecting to DB\n",
    "try:\n",
    "    con = cx_Oracle.connect('hr/hr@//localhost:1521/xe')\n",
    "    cursor = con.cursor()\n",
    "    sql=('insert into TableName(COL1,col2) values(:c1,:c2)')\n",
    "   \n",
    "   #Creating a table\n",
    "    cursor.execute(sql,['vitthal',5])\n",
    "    print(\"Record Inserted\")\n",
    "    con.commit()\n",
    "   \n",
    "except cx_Oracle.DatabaseError as e:\n",
    "    print(\"Problem connecting to Oracle\", e)\n",
    "   # Close the all database operation\n",
    "finally:\n",
    "    if cursor:\n",
    "        cursor.close()\n",
    "    if con:\n",
    "        con.close()\n"
   ]
  },
  {
   "cell_type": "code",
   "execution_count": 6,
   "metadata": {
    "scrolled": true
   },
   "outputs": [
    {
     "name": "stdout",
     "output_type": "stream",
     "text": [
      "Values: Randall Perkins\n",
      "Values: Sarah Bell\n",
      "Values: Britney Everett\n",
      "Values: Samuel McCain\n",
      "Values: Vance Jones\n",
      "Values: Alana Walsh\n",
      "Values: Kevin Feeney\n",
      "Values: Donald OConnell\n",
      "Values: Douglas Grant\n"
     ]
    }
   ],
   "source": [
    "#### Record Fetching\n",
    "#################################\n",
    "import cx_Oracle\n",
    "\n",
    "# Connect as user \"hr\" with password \"welcome\" to the \"orclpdb1\" service running on this computer.\n",
    "connection = cx_Oracle.connect(user=\"hr\", password=\"hr\",\n",
    "                               dsn=\"localhost:1521/xe\")\n",
    "\n",
    "cursor = connection.cursor()\n",
    "cursor.execute(\"\"\"\n",
    "        SELECT first_name, last_name\n",
    "        FROM employees\n",
    "        WHERE department_id = :did AND employee_id > :eid\"\"\",\n",
    "        did = 50,\n",
    "        eid = 190)\n",
    "for fname, lname in cursor:\n",
    "    print(\"Values:\", fname, lname)"
   ]
  },
  {
   "cell_type": "code",
   "execution_count": 5,
   "metadata": {
    "scrolled": true
   },
   "outputs": [
    {
     "name": "stdout",
     "output_type": "stream",
     "text": [
      "11.2.0.2.0\n"
     ]
    }
   ],
   "source": [
    "## Connection Checking\n",
    "#########################\n",
    "import cx_Oracle\n",
    "# Connecting to DB\n",
    "con=cx_Oracle.connect('hr/hr@localhost:1521/xe')\n",
    "print(con.version)"
   ]
  },
  {
   "cell_type": "code",
   "execution_count": 16,
   "metadata": {},
   "outputs": [
    {
     "name": "stdout",
     "output_type": "stream",
     "text": [
      "C:\\ProgramData\\Anaconda3\n"
     ]
    }
   ],
   "source": [
    "## Python Folder Path \n",
    "###############################\n",
    "import sys\n",
    "locate_python = sys.exec_prefix\n",
    "print(locate_python)"
   ]
  },
  {
   "cell_type": "code",
   "execution_count": null,
   "metadata": {},
   "outputs": [],
   "source": []
  },
  {
   "cell_type": "code",
   "execution_count": null,
   "metadata": {},
   "outputs": [],
   "source": []
  },
  {
   "cell_type": "code",
   "execution_count": null,
   "metadata": {},
   "outputs": [],
   "source": []
  },
  {
   "cell_type": "code",
   "execution_count": null,
   "metadata": {},
   "outputs": [],
   "source": []
  }
 ],
 "metadata": {
  "kernelspec": {
   "display_name": "Python 3",
   "language": "python",
   "name": "python3"
  },
  "language_info": {
   "codemirror_mode": {
    "name": "ipython",
    "version": 3
   },
   "file_extension": ".py",
   "mimetype": "text/x-python",
   "name": "python",
   "nbconvert_exporter": "python",
   "pygments_lexer": "ipython3",
   "version": "3.8.5"
  }
 },
 "nbformat": 4,
 "nbformat_minor": 4
}
