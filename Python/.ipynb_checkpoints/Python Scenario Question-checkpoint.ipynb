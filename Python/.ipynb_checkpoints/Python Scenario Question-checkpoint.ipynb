{
 "cells": [
  {
   "cell_type": "code",
   "execution_count": 2,
   "metadata": {
    "scrolled": false
   },
   "outputs": [
    {
     "name": "stdout",
     "output_type": "stream",
     "text": [
      "Name : Vithal\n",
      "Branch : CSE\n"
     ]
    }
   ],
   "source": [
    "## Simple Class \n",
    "class student:\n",
    "    def __init__(self,Id,name,branch):\n",
    "        self.Id=Id\n",
    "        self.name=name\n",
    "        self.branch=branch\n",
    "    def print_m1(self):\n",
    "        print('Name :',self.name)\n",
    "        print('Branch :',self.branch)\n",
    "        \n",
    "cls=student(1,'Vithal','CSE')\n",
    "cls.print_m1()"
   ]
  },
  {
   "cell_type": "code",
   "execution_count": 11,
   "metadata": {},
   "outputs": [
    {
     "name": "stdout",
     "output_type": "stream",
     "text": [
      "3 2\n",
      "4 1\n"
     ]
    }
   ],
   "source": [
    "## Finding the pairs whose sum equal to N\n",
    "def print_pairs(arr,N):\n",
    "    hash_set=set()\n",
    "    for i in range(0,len(arr)):\n",
    "        val=N-arr[i]\n",
    "        if val in hash_set:\n",
    "            print(str(arr[i])+' '+str(val))\n",
    "        hash_set.add(arr[i])\n",
    "        \n",
    "arr=[1,2,40,3,9,4,10]\n",
    "N=5\n",
    "print_pairs(arr,N)"
   ]
  },
  {
   "cell_type": "code",
   "execution_count": 4,
   "metadata": {},
   "outputs": [
    {
     "ename": "NameError",
     "evalue": "name 'hash_set' is not defined",
     "output_type": "error",
     "traceback": [
      "\u001b[1;31m---------------------------------------------------------------------------\u001b[0m",
      "\u001b[1;31mNameError\u001b[0m                                 Traceback (most recent call last)",
      "\u001b[1;32m<ipython-input-4-3991452ecd7f>\u001b[0m in \u001b[0;36m<module>\u001b[1;34m\u001b[0m\n\u001b[1;32m----> 1\u001b[1;33m \u001b[0mhash_set\u001b[0m\u001b[1;33m\u001b[0m\u001b[1;33m\u001b[0m\u001b[0m\n\u001b[0m",
      "\u001b[1;31mNameError\u001b[0m: name 'hash_set' is not defined"
     ]
    }
   ],
   "source": [
    "hash_set"
   ]
  }
 ],
 "metadata": {
  "kernelspec": {
   "display_name": "Python 3",
   "language": "python",
   "name": "python3"
  },
  "language_info": {
   "codemirror_mode": {
    "name": "ipython",
    "version": 3
   },
   "file_extension": ".py",
   "mimetype": "text/x-python",
   "name": "python",
   "nbconvert_exporter": "python",
   "pygments_lexer": "ipython3",
   "version": "3.8.5"
  }
 },
 "nbformat": 4,
 "nbformat_minor": 4
}
