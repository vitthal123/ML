{
 "cells": [
  {
   "cell_type": "code",
   "execution_count": 2,
   "metadata": {
    "scrolled": false
   },
   "outputs": [
    {
     "name": "stdout",
     "output_type": "stream",
     "text": [
      "Name : Vithal\n",
      "Branch : CSE\n"
     ]
    }
   ],
   "source": [
    "## Simple Class \n",
    "class student:\n",
    "    def __init__(self,Id,name,branch):\n",
    "        self.Id=Id\n",
    "        self.name=name\n",
    "        self.branch=branch\n",
    "    def print_m1(self):\n",
    "        print('Name :',self.name)\n",
    "        print('Branch :',self.branch)\n",
    "        \n",
    "cls=student(1,'Vithal','CSE')\n",
    "cls.print_m1()"
   ]
  },
  {
   "cell_type": "code",
   "execution_count": 11,
   "metadata": {},
   "outputs": [
    {
     "name": "stdout",
     "output_type": "stream",
     "text": [
      "3 2\n",
      "4 1\n"
     ]
    }
   ],
   "source": [
    "## Finding the pairs whose sum equal to N\n",
    "def print_pairs(arr,N):\n",
    "    hash_set=set()\n",
    "    for i in range(0,len(arr)):\n",
    "        val=N-arr[i]\n",
    "        if val in hash_set:\n",
    "            print(str(arr[i])+' '+str(val))\n",
    "        hash_set.add(arr[i])\n",
    "        \n",
    "arr=[1,2,40,3,9,4,10]\n",
    "N=5\n",
    "print_pairs(arr,N)"
   ]
  },
  {
   "cell_type": "code",
   "execution_count": 14,
   "metadata": {},
   "outputs": [
    {
     "name": "stdout",
     "output_type": "stream",
     "text": [
      "-0.0 0.4444444444444444\n"
     ]
    }
   ],
   "source": [
    "a, b, c, m, n, o = 5, 9, 4, 7, 9, 4\n",
    "temp = a*n - b*m\n",
    "if n != 0:\n",
    "   x = (c*n - b*o) / temp\n",
    "   y = (a*o - m*c) / temp\n",
    "   print(str(x), str(y))"
   ]
  },
  {
   "cell_type": "code",
   "execution_count": 15,
   "metadata": {
    "scrolled": true
   },
   "outputs": [
    {
     "name": "stdout",
     "output_type": "stream",
     "text": [
      "Match not found\n",
      "Match found\n"
     ]
    }
   ],
   "source": [
    "import re\n",
    "def match_text(txt_data):\n",
    "       pattern = 'ab{4,8}'\n",
    "       if re.search(pattern,  txt_data):    #search for pattern in txt_data\n",
    "           return 'Match found'\n",
    "       else:\n",
    "           return('Match not found')\n",
    "print(match_text(\"abc\"))         #prints Match not found\n",
    "print(match_text(\"aabbbbbc\"))    #prints Match found"
   ]
  },
  {
   "cell_type": "code",
   "execution_count": 16,
   "metadata": {},
   "outputs": [
    {
     "name": "stdout",
     "output_type": "stream",
     "text": [
      "01-08-2021\n"
     ]
    }
   ],
   "source": [
    "import re\n",
    "def transform_date_format(date):\n",
    "   return re.sub(r'(\\d{4})-(\\d{1,2})-(\\d{1,2})', '\\\\3-\\\\2-\\\\1', date)\n",
    "date_input = \"2021-08-01\"\n",
    "print(transform_date_format(date_input))"
   ]
  },
  {
   "cell_type": "code",
   "execution_count": 26,
   "metadata": {},
   "outputs": [
    {
     "name": "stdout",
     "output_type": "stream",
     "text": [
      "01:08:2021\n"
     ]
    }
   ],
   "source": [
    "from datetime import datetime\n",
    "\n",
    "new_date=datetime.strptime(\"2021-08-01\",\"%Y-%m-%d\").strftime(\"%d:%m:%Y\")\n",
    "\n",
    "print(new_date)"
   ]
  },
  {
   "cell_type": "code",
   "execution_count": 23,
   "metadata": {},
   "outputs": [
    {
     "name": "stdout",
     "output_type": "stream",
     "text": [
      "Counter({'key4': 300, 'key1': 250, 'key2': 200, 'key3': 200})\n"
     ]
    }
   ],
   "source": [
    "from collections import Counter\n",
    "d1 = {'key1': 50, 'key2': 100, 'key3':200}\n",
    "d2 = {'key1': 200, 'key2': 100, 'key4':300}\n",
    "new_dict=Counter(d1)+Counter(d2)\n",
    "print(new_dict)"
   ]
  },
  {
   "cell_type": "code",
   "execution_count": 24,
   "metadata": {},
   "outputs": [
    {
     "ename": "SyntaxError",
     "evalue": "unmatched ')' (<ipython-input-24-9dd87588ecfe>, line 4)",
     "output_type": "error",
     "traceback": [
      "\u001b[1;36m  File \u001b[1;32m\"<ipython-input-24-9dd87588ecfe>\"\u001b[1;36m, line \u001b[1;32m4\u001b[0m\n\u001b[1;33m    data_source = StringIO.StringIO(requests.get(csv_link).content))\u001b[0m\n\u001b[1;37m                                                                   ^\u001b[0m\n\u001b[1;31mSyntaxError\u001b[0m\u001b[1;31m:\u001b[0m unmatched ')'\n"
     ]
    }
   ],
   "source": [
    "from io import StringIO\n",
    "import pandas\n",
    "csv_link = \"https://docs.google.com/spreadsheets/d/...\"\n",
    "data_source = StringIO.StringIO(requests.get(csv_link).content))\n",
    "dataframe = pd.read_csv(data_source)\n",
    "print(dataframe.head())"
   ]
  },
  {
   "cell_type": "code",
   "execution_count": 30,
   "metadata": {},
   "outputs": [
    {
     "name": "stdout",
     "output_type": "stream",
     "text": [
      "Enter the string\"Hello\"\n",
      "Hello\n"
     ]
    }
   ],
   "source": [
    "def main():\n",
    "    x=input('Enter the string').replace('\"','')\n",
    "    print(x,sep='\"')\n",
    "\n",
    "    return 0\n",
    "\n",
    "if __name__ == '__main__':\n",
    "    main()"
   ]
  },
  {
   "cell_type": "code",
   "execution_count": 31,
   "metadata": {},
   "outputs": [
    {
     "name": "stdout",
     "output_type": "stream",
     "text": [
      "String1: InterviewBit\n",
      "String2: Don't change the variable name\n",
      "Integer: 10\n",
      "Float: 20.000000\n"
     ]
    }
   ],
   "source": [
    "def main():\n",
    "    # Assign values to the following variable as described above\n",
    "    # Don't change the variable name\n",
    "    my_string1 =\"InterviewBit\"\n",
    "    my_string2 =\"Don't change the variable name\"\n",
    "    my_int = 10\n",
    "    my_float = 20.0\n",
    "    \n",
    "    # Don't change the below code\n",
    "    print(\"String1: %s\" % my_string1)\n",
    "    print(\"String2: %s\" % my_string2)\n",
    "    print(\"Integer: %d\" % my_int)\n",
    "    print(\"Float: %f\" % my_float)\n",
    "    return 0\n",
    "\n",
    "if __name__ == '__main__':\n",
    "    main()"
   ]
  },
  {
   "cell_type": "code",
   "execution_count": 2,
   "metadata": {},
   "outputs": [
    {
     "name": "stdout",
     "output_type": "stream",
     "text": [
      "10\n",
      "5\n",
      "sum :15\n",
      " diff :5\n",
      " prod :50\n",
      " div1 :2\n",
      " div2 :2.0\n",
      " rem :0\n",
      "p :100000\n"
     ]
    }
   ],
   "source": [
    "#     First line shows the sum of two integers A and B.\n",
    "#     Second line shows the difference between two numbers(A-B).\n",
    "#     Third line shows the product of the two integers A and B.\n",
    "#     Fourth line shows the Integer Division where A is the numerator and B is the denominator.\n",
    "#     Fifth line shows the Float Division where A is the numerator and B is the denominator.\n",
    "#     Sixth line shows the Remainder when A is divided by B.\n",
    "#     Seventh line shows the Power i.e AB\n",
    "\n",
    "def main():\n",
    "    A = int(input())\n",
    "    B = int(input())\n",
    "    sum=A+B\n",
    "    diff=A-B\n",
    "    prod=A*B\n",
    "    div1=A//B\n",
    "    div2=A/B\n",
    "    rem=A%B\n",
    "    p=A**B\n",
    "    \n",
    "    print('sum :{}'.format(sum))\n",
    "    print(' diff :{}'.format(diff))\n",
    "    print(' prod :{}'.format(prod))\n",
    "    print(' div1 :{}'.format(div1))\n",
    "    print(' div2 :{}'.format(div2))\n",
    "    print(' rem :{}'.format(rem))\n",
    "    print('p :{}'.format(p))\n",
    "    \n",
    "    return 0\n",
    "\n",
    "if __name__ == '__main__':\n",
    "    main()"
   ]
  },
  {
   "cell_type": "code",
   "execution_count": 3,
   "metadata": {
    "scrolled": true
   },
   "outputs": [
    {
     "name": "stdout",
     "output_type": "stream",
     "text": [
      "InterviewBitInterviewBitInterviewBitInterviewBitInterviewBitInterviewBitInterviewBitInterviewBitInterviewBitInterviewBitInterviewBitInterviewBitInterviewBitInterviewBitInterviewBitInterviewBitInterviewBitInterviewBitInterviewBitInterviewBitInterviewBitInterviewBitInterviewBitInterviewBitInterviewBitInterviewBitInterviewBitInterviewBitInterviewBitInterviewBitInterviewBitInterviewBitInterviewBitInterviewBitInterviewBitInterviewBitInterviewBitInterviewBitInterviewBitInterviewBitInterviewBitInterviewBitInterviewBitInterviewBitInterviewBitInterviewBitInterviewBitInterviewBitInterviewBitInterviewBitInterviewBitInterviewBitInterviewBitInterviewBitInterviewBitInterviewBitInterviewBitInterviewBitInterviewBitInterviewBitInterviewBitInterviewBitInterviewBitInterviewBitInterviewBitInterviewBitInterviewBitInterviewBitInterviewBitInterviewBitInterviewBitInterviewBitInterviewBitInterviewBitInterviewBitInterviewBitInterviewBitInterviewBitInterviewBitInterviewBitInterviewBitInterviewBitInterviewBitInterviewBitInterviewBitInterviewBitInterviewBitInterviewBitInterviewBitInterviewBitInterviewBitInterviewBitInterviewBitInterviewBitInterviewBitInterviewBitInterviewBitInterviewBitInterviewBitInterviewBit\n"
     ]
    }
   ],
   "source": [
    "def main():\n",
    "    mystr='InterviewBit'*100\n",
    "    print(mystr)\n",
    "    return 0\n",
    "\n",
    "if __name__ == '__main__':\n",
    "    main()"
   ]
  },
  {
   "cell_type": "code",
   "execution_count": 4,
   "metadata": {},
   "outputs": [
    {
     "name": "stdout",
     "output_type": "stream",
     "text": [
      "10\n",
      "False\n",
      "True\n"
     ]
    }
   ],
   "source": [
    "def main():\n",
    "    num = int(input())\n",
    "    print(num==5)\n",
    "    print(num==10)\n",
    "\n",
    "    return 0\n",
    "\n",
    "if __name__ == '__main__':\n",
    "    main()"
   ]
  },
  {
   "cell_type": "code",
   "execution_count": 8,
   "metadata": {},
   "outputs": [
    {
     "name": "stdout",
     "output_type": "stream",
     "text": [
      "40\n",
      "F\n"
     ]
    }
   ],
   "source": [
    "# If num >= 90, grade A.\n",
    "# If num >= 80, grade B.\n",
    "# If num >= 70, grade C.\n",
    "# If num >= 60, grade D.\n",
    "# If num >= 50, grade E.\n",
    "# Else grade will be F.\n",
    "def main():\n",
    "    num = int(input())\n",
    "    if(num>=90):\n",
    "        print('A')\n",
    "    elif (num>=80):\n",
    "        print('B')\n",
    "    elif (num>=70):\n",
    "        print('C')\n",
    "    elif (num>=60):\n",
    "        print('D')\n",
    "    elif (num>=50):\n",
    "        print('E')\n",
    "    else:\n",
    "        print('F')        \n",
    "\n",
    "    return 0\n",
    "\n",
    "if __name__ == '__main__':\n",
    "    main()"
   ]
  },
  {
   "cell_type": "code",
   "execution_count": 11,
   "metadata": {},
   "outputs": [
    {
     "ename": "TypeError",
     "evalue": "'int' object is not iterable",
     "output_type": "error",
     "traceback": [
      "\u001b[1;31m---------------------------------------------------------------------------\u001b[0m",
      "\u001b[1;31mTypeError\u001b[0m                                 Traceback (most recent call last)",
      "\u001b[1;32m<ipython-input-11-c9def89c8521>\u001b[0m in \u001b[0;36m<module>\u001b[1;34m\u001b[0m\n\u001b[0;32m     10\u001b[0m \u001b[1;33m\u001b[0m\u001b[0m\n\u001b[0;32m     11\u001b[0m \u001b[0ms\u001b[0m\u001b[1;33m=\u001b[0m\u001b[0mSolution\u001b[0m\u001b[1;33m(\u001b[0m\u001b[1;33m)\u001b[0m\u001b[1;33m\u001b[0m\u001b[1;33m\u001b[0m\u001b[0m\n\u001b[1;32m---> 12\u001b[1;33m \u001b[0mprint\u001b[0m\u001b[1;33m(\u001b[0m\u001b[0ms\u001b[0m\u001b[1;33m.\u001b[0m\u001b[0msolve\u001b[0m\u001b[1;33m(\u001b[0m\u001b[1;36m111\u001b[0m\u001b[1;33m)\u001b[0m\u001b[1;33m)\u001b[0m\u001b[1;33m\u001b[0m\u001b[1;33m\u001b[0m\u001b[0m\n\u001b[0m",
      "\u001b[1;32m<ipython-input-11-c9def89c8521>\u001b[0m in \u001b[0;36msolve\u001b[1;34m(self, A)\u001b[0m\n\u001b[0;32m      5\u001b[0m         \u001b[0mB\u001b[0m\u001b[1;33m=\u001b[0m\u001b[0mstr\u001b[0m\u001b[1;33m(\u001b[0m\u001b[0mA\u001b[0m\u001b[1;33m)\u001b[0m\u001b[1;33m\u001b[0m\u001b[1;33m\u001b[0m\u001b[0m\n\u001b[0;32m      6\u001b[0m         \u001b[0msum\u001b[0m\u001b[1;33m=\u001b[0m\u001b[1;36m1\u001b[0m\u001b[1;33m\u001b[0m\u001b[1;33m\u001b[0m\u001b[0m\n\u001b[1;32m----> 7\u001b[1;33m         \u001b[1;32mfor\u001b[0m \u001b[0mi\u001b[0m \u001b[1;32min\u001b[0m \u001b[0mlen\u001b[0m\u001b[1;33m(\u001b[0m\u001b[0mB\u001b[0m\u001b[1;33m)\u001b[0m\u001b[1;33m:\u001b[0m\u001b[1;33m\u001b[0m\u001b[1;33m\u001b[0m\u001b[0m\n\u001b[0m\u001b[0;32m      8\u001b[0m             \u001b[0msum\u001b[0m\u001b[1;33m=\u001b[0m\u001b[0msum\u001b[0m\u001b[1;33m*\u001b[0m\u001b[0mint\u001b[0m\u001b[1;33m(\u001b[0m\u001b[0mB\u001b[0m\u001b[1;33m[\u001b[0m\u001b[0mi\u001b[0m\u001b[1;33m]\u001b[0m\u001b[1;33m)\u001b[0m\u001b[1;33m\u001b[0m\u001b[1;33m\u001b[0m\u001b[0m\n\u001b[0;32m      9\u001b[0m         \u001b[1;32mreturn\u001b[0m \u001b[0msum\u001b[0m\u001b[1;33m\u001b[0m\u001b[1;33m\u001b[0m\u001b[0m\n",
      "\u001b[1;31mTypeError\u001b[0m: 'int' object is not iterable"
     ]
    }
   ],
   "source": [
    "class Solution:\n",
    "    # @param A : integer\n",
    "    # @return an integer\n",
    "    def solve(self, A):\n",
    "        B=str(A)\n",
    "        sum=1\n",
    "        for i in len(B):\n",
    "            sum=sum*int(B[i])\n",
    "        return sum\n",
    "\n",
    "s=Solution()\n",
    "print(s.solve(111))\n"
   ]
  },
  {
   "cell_type": "code",
   "execution_count": 31,
   "metadata": {},
   "outputs": [
    {
     "name": "stdout",
     "output_type": "stream",
     "text": [
      "18\n"
     ]
    }
   ],
   "source": [
    "class Solution:\n",
    "    # @param A : integer\n",
    "    # @return an integer\n",
    "    def solve(self, A):\n",
    "        temp=str(A)\n",
    "#         print(temp)\n",
    "#         print(type(temp))\n",
    "        sum=1\n",
    "        for i in range(len(temp)):\n",
    "            sum=sum*int(temp[i])\n",
    "        return sum\n",
    "        \n",
    "c=Solution()\n",
    "print(c.solve(233))"
   ]
  },
  {
   "cell_type": "code",
   "execution_count": 35,
   "metadata": {
    "scrolled": true
   },
   "outputs": [
    {
     "name": "stdout",
     "output_type": "stream",
     "text": [
      "Enter the nos :123\n",
      "6\n"
     ]
    }
   ],
   "source": [
    "class Solution:\n",
    "    # @param A : integer\n",
    "    # @return an integer\n",
    "    def solve(self, A):\n",
    "        temp=str(A)\n",
    "        sum=1\n",
    "        for i in range(len(temp)):\n",
    "            sum=sum*int(temp[i])\n",
    "        return sum        \n",
    "\n",
    "num=input('Enter the nos :')\n",
    "s=Solution()\n",
    "print(s.solve(num))\n"
   ]
  },
  {
   "cell_type": "code",
   "execution_count": 36,
   "metadata": {
    "scrolled": true
   },
   "outputs": [
    {
     "name": "stdout",
     "output_type": "stream",
     "text": [
      "Enter the StringIntervi\n",
      " Hello Intervi\n"
     ]
    }
   ],
   "source": [
    "def main():\n",
    "    # YOUR CODE GOES HERE\n",
    "    # Please take input and print output to standard input/output (stdin/stdout)\n",
    "    # E.g. 'input()/raw_input()' for input & 'print' for output\n",
    "    x=input('Enter the String')\n",
    "    print(f\" Hello {x}\")\n",
    "\n",
    "    return 0\n",
    "\n",
    "if __name__ == '__main__':\n",
    "    main()"
   ]
  },
  {
   "cell_type": "code",
   "execution_count": 37,
   "metadata": {
    "scrolled": true
   },
   "outputs": [
    {
     "name": "stdout",
     "output_type": "stream",
     "text": [
      "4\n",
      "2\n",
      "6\n",
      "2\n",
      "8\n",
      "2\n",
      "2.0\n",
      "0\n",
      "16\n"
     ]
    }
   ],
   "source": [
    "def main():\n",
    "    A = int(input())\n",
    "    B = int(input())\n",
    "    # Print seven lines as described above\n",
    "    ## Sum\n",
    "    print(A+B)\n",
    "    ## Difference\n",
    "    print(A-B)\n",
    "    ##Product\n",
    "    print(A*B)\n",
    "    ## Division\n",
    "    print(A//B)\n",
    "    ## FLOAT Division\n",
    "    print(A/B)\n",
    "    ## Reminder\n",
    "    print(A%B)\n",
    "    ## POWER\n",
    "    print(A**B)\n",
    "    return 0\n",
    "\n",
    "if __name__ == '__main__':\n",
    "    main()"
   ]
  },
  {
   "cell_type": "code",
   "execution_count": 40,
   "metadata": {},
   "outputs": [
    {
     "name": "stdout",
     "output_type": "stream",
     "text": [
      "Hello Robin. You are currently left with 10 chocolates.\n"
     ]
    }
   ],
   "source": [
    "def main():\n",
    "    data = (\"Robin\", 10, \"chocolates\")\n",
    "    format_string = 'Hello %s. You are currently left with %d %s.'\n",
    "    print(format_string %data)\n",
    "    \n",
    "    return 0\n",
    "\n",
    "if __name__ == '__main__':\n",
    "    main()"
   ]
  }
 ],
 "metadata": {
  "kernelspec": {
   "display_name": "Python 3",
   "language": "python",
   "name": "python3"
  },
  "language_info": {
   "codemirror_mode": {
    "name": "ipython",
    "version": 3
   },
   "file_extension": ".py",
   "mimetype": "text/x-python",
   "name": "python",
   "nbconvert_exporter": "python",
   "pygments_lexer": "ipython3",
   "version": "3.8.5"
  }
 },
 "nbformat": 4,
 "nbformat_minor": 4
}
