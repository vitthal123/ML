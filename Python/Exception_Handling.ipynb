{
 "cells": [
  {
   "cell_type": "code",
   "execution_count": 5,
   "metadata": {
    "scrolled": true
   },
   "outputs": [
    {
     "name": "stdout",
     "output_type": "stream",
     "text": [
      "Enter the numerator :10\n",
      "Enter the denominator :0\n",
      "Error - denominator cannot be 0\n"
     ]
    }
   ],
   "source": [
    "## Exception Handling\n",
    "##Format\n",
    "# try:\n",
    "#     //code\n",
    "# except:\n",
    "#     //exception message\n",
    "# else:\n",
    "#     //this execute when exception not occuresd\n",
    "# finally:\n",
    "#     //it will execute when the error occur or not\n",
    "\n",
    "\n",
    "# Ex 1\n",
    "try:\n",
    "    numo=int(input(\"Enter the numerator :\"))\n",
    "    deno=int(input(\"Enter the denominator :\"))\n",
    "    result=numo/deno\n",
    "    print(result)\n",
    "except ZeroDivisionError:\n",
    "    print(\"Error - denominator cannot be 0\")    \n"
   ]
  },
  {
   "cell_type": "code",
   "execution_count": 7,
   "metadata": {
    "scrolled": true
   },
   "outputs": [
    {
     "name": "stdout",
     "output_type": "stream",
     "text": [
      "Enter the numerator :10\n",
      "Enter the denominator :0\n",
      "Error - denominator cannot be 0\n"
     ]
    }
   ],
   "source": [
    "# Ex 2 : exception with ZeroDivisionError (specific exception) with else block\n",
    "try:\n",
    "    numo=int(input(\"Enter the numerator :\"))\n",
    "    deno=int(input(\"Enter the denominator :\"))\n",
    "    result=numo/deno\n",
    "    print(result)\n",
    "except ZeroDivisionError:\n",
    "    print(\"Error - denominator cannot be 0\")\n",
    "else:\n",
    "    print('I am in else block')"
   ]
  },
  {
   "cell_type": "code",
   "execution_count": 9,
   "metadata": {
    "scrolled": true
   },
   "outputs": [
    {
     "name": "stdout",
     "output_type": "stream",
     "text": [
      "Enter the numerator :10\n",
      "Enter the denominator :0\n",
      "Error - denominator cannot be 0\n",
      "I am in finally block\n"
     ]
    }
   ],
   "source": [
    "# Ex 3 :Exception with else and finally block\n",
    "try:\n",
    "    numo=int(input(\"Enter the numerator :\"))\n",
    "    deno=int(input(\"Enter the denominator :\"))\n",
    "    result=numo/deno\n",
    "    print(result)\n",
    "except ZeroDivisionError:\n",
    "    print(\"Error - denominator cannot be 0\")\n",
    "else:\n",
    "    print('I am in else block')\n",
    "finally:\n",
    "    print('I am in finally block')"
   ]
  },
  {
   "cell_type": "code",
   "execution_count": 10,
   "metadata": {
    "scrolled": true
   },
   "outputs": [
    {
     "name": "stdout",
     "output_type": "stream",
     "text": [
      "Enter the numerator :10\n",
      "Enter the denominator :2\n",
      "5.0\n",
      "Enter the index : 5\n",
      "Index outof Range .....\n"
     ]
    }
   ],
   "source": [
    "## Ex 4 : Specific Exception\n",
    "try:\n",
    "    numo=int(input(\"Enter the numerator :\"))\n",
    "    deno=int(input(\"Enter the denominator :\"))\n",
    "    result=numo/deno\n",
    "    print(result)\n",
    "    arr=[1,2,3,4]\n",
    "    i=int(input('Enter the index : '))\n",
    "    print(arr[i])\n",
    "except ZeroDivisionError:\n",
    "    print(\"Error - denominator cannot be 0\")\n",
    "except IndexError:\n",
    "    print(\"Index outof Range .....\")"
   ]
  },
  {
   "cell_type": "code",
   "execution_count": 12,
   "metadata": {},
   "outputs": [
    {
     "name": "stdout",
     "output_type": "stream",
     "text": [
      "Enter the DOB Year ....1995\n",
      "You are eligible for govt exam\n"
     ]
    }
   ],
   "source": [
    "# Ex 5: Custom Exception\n",
    "class Error(Exception):\n",
    "    pass\n",
    "class dobException(Error):\n",
    "    pass\n",
    "\n",
    "try:\n",
    "    dob_Year=int(input(\"Enter the DOB Year ....\"))\n",
    "    age=2022-dob_Year\n",
    "    if(age<=30 and age>=20):\n",
    "        print('You are eligible for govt exam')\n",
    "    else:\n",
    "        raise dobException\n",
    "except dobException:\n",
    "    print('You are not eligible for govt Exam')"
   ]
  }
 ],
 "metadata": {
  "kernelspec": {
   "display_name": "Python 3",
   "language": "python",
   "name": "python3"
  },
  "language_info": {
   "codemirror_mode": {
    "name": "ipython",
    "version": 3
   },
   "file_extension": ".py",
   "mimetype": "text/x-python",
   "name": "python",
   "nbconvert_exporter": "python",
   "pygments_lexer": "ipython3",
   "version": "3.8.5"
  }
 },
 "nbformat": 4,
 "nbformat_minor": 4
}
